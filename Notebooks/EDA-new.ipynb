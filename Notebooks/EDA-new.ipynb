{
 "cells": [
  {
   "cell_type": "code",
   "execution_count": 1,
   "metadata": {},
   "outputs": [],
   "source": [
    "import sys\n",
    "import numpy as np\n",
    "import pandas as pd\n",
    "import matplotlib.pyplot as mat\n",
    "import datetime as dt\n",
    "sys.path.append('../src')\n",
    "import mta_data_clean as mc"
   ]
  },
  {
   "cell_type": "code",
   "execution_count": 2,
   "metadata": {},
   "outputs": [],
   "source": [
    "# Read the datafiles\n",
    "data_path = '../data/'\n",
    "pickle_file = 'mta_data.pickle'\n",
    "'''\n",
    "data_file_list = ['turnstile_191102.txt',\n",
    "                 'turnstile_191109.txt',\n",
    "                 'turnstile_191116.txt',\n",
    "                 'turnstile_191130.txt',\n",
    "                 'turnstile_191207.txt',\n",
    "                 'turnstile_191214.txt',\n",
    "                 'turnstile_191221.txt',\n",
    "                 'turnstile_191228.txt'\n",
    "                 'turnstile_200104.txt']\n",
    "'''\n",
    "data_file_list = ['turnstile_191102.txt',\n",
    "                 'turnstile_191005.txt']\n",
    "booth_key_filename = 'Remote-Booth-Station.csv'"
   ]
  },
  {
   "cell_type": "code",
   "execution_count": 3,
   "metadata": {},
   "outputs": [],
   "source": [
    "df = mc.mta_data_pickle_read(pickle_file)"
   ]
  },
  {
   "cell_type": "code",
   "execution_count": 5,
   "metadata": {},
   "outputs": [
    {
     "ename": "AttributeError",
     "evalue": "'NoneType' object has no attribute 'describe'",
     "output_type": "error",
     "traceback": [
      "\u001b[0;31m---------------------------------------------------------------------------\u001b[0m",
      "\u001b[0;31mAttributeError\u001b[0m                            Traceback (most recent call last)",
      "\u001b[0;32m<ipython-input-5-ea8415b8a3ee>\u001b[0m in \u001b[0;36m<module>\u001b[0;34m\u001b[0m\n\u001b[0;32m----> 1\u001b[0;31m \u001b[0mdf\u001b[0m\u001b[0;34m.\u001b[0m\u001b[0mdescribe\u001b[0m\u001b[0;34m(\u001b[0m\u001b[0;34m)\u001b[0m\u001b[0;34m\u001b[0m\u001b[0;34m\u001b[0m\u001b[0m\n\u001b[0m",
      "\u001b[0;31mAttributeError\u001b[0m: 'NoneType' object has no attribute 'describe'"
     ]
    }
   ],
   "source": [
    "df.describe()"
   ]
  },
  {
   "cell_type": "code",
   "execution_count": null,
   "metadata": {},
   "outputs": [],
   "source": [
    "turnstiles = pd.read_csv(data_path + data_file_list[0])\n",
    "booth_key = pd.read_csv(data_path + booth_key_filename)\n",
    "turnstiles, booth_key"
   ]
  },
  {
   "cell_type": "code",
   "execution_count": null,
   "metadata": {},
   "outputs": [],
   "source": [
    "turnstiles.head()"
   ]
  },
  {
   "cell_type": "code",
   "execution_count": null,
   "metadata": {},
   "outputs": [],
   "source": [
    "turnstiles.columns = [x.strip() for x in turnstiles.columns]\n",
    "turnstiles.columns"
   ]
  },
  {
   "cell_type": "code",
   "execution_count": null,
   "metadata": {},
   "outputs": [],
   "source": [
    "turnstiles.rename(columns=lambda x: x.lower().replace(' ', '_'), inplace=True)"
   ]
  },
  {
   "cell_type": "code",
   "execution_count": null,
   "metadata": {},
   "outputs": [],
   "source": [
    "# Initialize the variables we're using for cleaning and summarizing\n",
    "delta_entry = [0]\n",
    "delta_exit = [0]\n",
    "turnstiles['date'] = pd.to_datetime(turnstiles['date'])\n",
    "turnstiles['time'] = pd.to_datetime(turnstiles['time'])\n",
    "turnstiles['time'] = turnstiles['time'].dt.time\n",
    "turnstiles['weekday'] = turnstiles['date'].dt.weekday_name\n",
    "\n",
    "# Loop through the rows of the dataframe\n",
    "for row in range(1, len(turnstiles)) :\n",
    "    # Assume we're going to have a 0 change for each row\n",
    "    entry_update = 0\n",
    "    exit_update = 0\n",
    "    \n",
    "    # If we're still dealing with the same station\n",
    "    if((turnstiles['station'][row] == turnstiles['station'][row - 1]) &\n",
    "       (turnstiles['desc'][row] == 'REGULAR') &\n",
    "       (turnstiles['date'][row] == turnstiles['date'][row - 1])) :\n",
    "        \n",
    "        # And we havn't changed a date\n",
    "        if(turnstiles['entries'][row] > turnstiles['entries'][row - 1]) :\n",
    "            entry_update = (turnstiles['entries'][row] - turnstiles['entries'][row - 1])\n",
    "        \n",
    "        if(turnstiles['exits'][row] > turnstiles['exits'][row - 1]) :\n",
    "            exit_update = (turnstiles['exits'][row] - turnstiles['exits'][row - 1])\n",
    "        \n",
    "        # Check for 'outliers'\n",
    "        if(entry_update > 20000) :\n",
    "            entry_update = 0\n",
    "            \n",
    "        if(exit_update > 20000) :\n",
    "            exit_update = 0\n",
    "    \n",
    "    # Update the lists\n",
    "    delta_entry.append(entry_update)\n",
    "    delta_exit.append(exit_update)\n",
    "\n",
    "\n",
    "# Add new columns to the data frame for the newly calculated data\n",
    "turnstiles['deltaEntry'] = delta_entry\n",
    "turnstiles['deltaExit'] = delta_exit"
   ]
  },
  {
   "cell_type": "code",
   "execution_count": null,
   "metadata": {},
   "outputs": [],
   "source": [
    "turnstiles.head()"
   ]
  },
  {
   "cell_type": "code",
   "execution_count": null,
   "metadata": {},
   "outputs": [],
   "source": [
    "turnstiles.groupby(['station', 'time'])[['deltaEntry', 'deltaExit']].sum()"
   ]
  },
  {
   "cell_type": "code",
   "execution_count": null,
   "metadata": {},
   "outputs": [],
   "source": [
    "import folium"
   ]
  },
  {
   "cell_type": "code",
   "execution_count": null,
   "metadata": {},
   "outputs": [],
   "source": [
    "def generateBaseMap(default_location=[40.693943, -73.985880], default_zoom_start=12):\n",
    "    base_map = folium.Map(location=default_location, control_scale=True, zoom_start=default_zoom_start)\n",
    "    return base_map"
   ]
  },
  {
   "cell_type": "code",
   "execution_count": null,
   "metadata": {},
   "outputs": [],
   "source": [
    "basemap = generateBaseMap()\n",
    "basemap"
   ]
  },
  {
   "cell_type": "code",
   "execution_count": null,
   "metadata": {},
   "outputs": [],
   "source": [
    "station_data = 'NYC_Transit_Subway_Entrance_And_Exit_Data.csv'\n",
    "stations = pd.read_csv(data_path+station_data)"
   ]
  },
  {
   "cell_type": "code",
   "execution_count": null,
   "metadata": {},
   "outputs": [],
   "source": [
    "BBox = (stations['Entrance Longitude'].min(),   stations['Entrance Longitude'].max(),      \n",
    "         stations['Entrance Latitude'].min(), stations['Entrance Latitude'].max())\n",
    "BBox"
   ]
  },
  {
   "cell_type": "code",
   "execution_count": null,
   "metadata": {},
   "outputs": [],
   "source": [
    "stations.describe()"
   ]
  },
  {
   "cell_type": "code",
   "execution_count": null,
   "metadata": {},
   "outputs": [],
   "source": [
    "turnstiles.describe()"
   ]
  },
  {
   "cell_type": "code",
   "execution_count": null,
   "metadata": {},
   "outputs": [],
   "source": [
    "stations.head()"
   ]
  },
  {
   "cell_type": "code",
   "execution_count": null,
   "metadata": {},
   "outputs": [],
   "source": [
    "stations.rename(columns=lambda x: x.strip().lower().replace(' ', '_'), inplace=True)"
   ]
  },
  {
   "cell_type": "code",
   "execution_count": null,
   "metadata": {},
   "outputs": [],
   "source": [
    "stations.station_name.unique()"
   ]
  },
  {
   "cell_type": "code",
   "execution_count": null,
   "metadata": {},
   "outputs": [],
   "source": [
    "len(stations.station_name)"
   ]
  },
  {
   "cell_type": "code",
   "execution_count": null,
   "metadata": {},
   "outputs": [],
   "source": [
    "stations.head()"
   ]
  },
  {
   "cell_type": "code",
   "execution_count": null,
   "metadata": {},
   "outputs": [],
   "source": [
    "stations.division.value_counts()"
   ]
  },
  {
   "cell_type": "code",
   "execution_count": null,
   "metadata": {},
   "outputs": [],
   "source": [
    "from folium.plugins import HeatMap\n",
    "stations_copy = stations.copy()\n",
    "stations_copy['count'] = 1\n",
    "basemap = generateBaseMap()\n",
    "HeatMap(data=stations_copy[['station_latitude', 'station_longitude', 'count']].groupby(['station_latitude', 'station_longitude']).sum().reset_index().values.tolist(), radius=8, max_zoom=13).add_to(basemap);"
   ]
  },
  {
   "cell_type": "code",
   "execution_count": null,
   "metadata": {},
   "outputs": [],
   "source": [
    "basemap"
   ]
  },
  {
   "cell_type": "code",
   "execution_count": null,
   "metadata": {},
   "outputs": [],
   "source": [
    "less_stations = stations_copy[stations_copy['division'] == 'BMT']"
   ]
  },
  {
   "cell_type": "code",
   "execution_count": null,
   "metadata": {},
   "outputs": [],
   "source": [
    "for lat,lon,station in zip(less_stations['station_latitude'],less_stations['station_longitude'],less_stations['station_name']):\n",
    "     folium.CircleMarker([lat, lon],\n",
    "                            popup=station,\n",
    "                            color='b',\n",
    "                            fill=True,\n",
    "                            fill_opacity=0.7,\n",
    "                           ).add_to(basemap)"
   ]
  },
  {
   "cell_type": "code",
   "execution_count": null,
   "metadata": {},
   "outputs": [],
   "source": [
    "basemap"
   ]
  },
  {
   "cell_type": "markdown",
   "metadata": {},
   "source": [
    "## Merge turnstiles and station data"
   ]
  },
  {
   "cell_type": "code",
   "execution_count": null,
   "metadata": {},
   "outputs": [],
   "source": [
    "turnstiles_copy = turnstiles.copy()"
   ]
  },
  {
   "cell_type": "code",
   "execution_count": null,
   "metadata": {},
   "outputs": [],
   "source": [
    "turnstiles_copy.head()"
   ]
  },
  {
   "cell_type": "markdown",
   "metadata": {},
   "source": [
    "Clean station names to match `stations` DataFrame"
   ]
  },
  {
   "cell_type": "code",
   "execution_count": null,
   "metadata": {},
   "outputs": [],
   "source": [
    "turnstiles_copy['station'] = turnstiles_copy['station'].str.title()"
   ]
  },
  {
   "cell_type": "markdown",
   "metadata": {},
   "source": [
    "Filter down the DataFrames to only include relevant data"
   ]
  },
  {
   "cell_type": "markdown",
   "metadata": {},
   "source": [
    "Convert stations with numerics to ordinal numbers"
   ]
  },
  {
   "cell_type": "code",
   "execution_count": null,
   "metadata": {},
   "outputs": [],
   "source": [
    "ordinal = lambda n: \"%d%s\" % (n,\"tsnrhtdd\"[(n/10%10!=1)*(n%10<4)*n%10::4])\n",
    "print([ordinal(n) for n in range(1, 32)])"
   ]
  },
  {
   "cell_type": "code",
   "execution_count": null,
   "metadata": {},
   "outputs": [],
   "source": [
    "for x in turnstiles_copy.station:\n",
    "    if any(char.isdigit() for char in x):\n",
    "        ordinal(x)"
   ]
  },
  {
   "cell_type": "markdown",
   "metadata": {},
   "source": [
    "# COME BACK TO ABOVE TOMORROW AM TO GET MERGE RIGHT"
   ]
  },
  {
   "cell_type": "code",
   "execution_count": null,
   "metadata": {},
   "outputs": [],
   "source": [
    "stations_copy = stations_copy.loc[:, ['division', 'station_name', 'station_latitude', 'station_longitude']]"
   ]
  },
  {
   "cell_type": "code",
   "execution_count": null,
   "metadata": {},
   "outputs": [],
   "source": [
    "stations_copy.head()"
   ]
  },
  {
   "cell_type": "code",
   "execution_count": null,
   "metadata": {},
   "outputs": [],
   "source": [
    "stations_grouped = stations_copy.groupby(['station_name', 'division'], as_index=False)['station_latitude', 'station_longitude'].mean()"
   ]
  },
  {
   "cell_type": "markdown",
   "metadata": {},
   "source": [
    "Merge DataFrames on station"
   ]
  },
  {
   "cell_type": "code",
   "execution_count": null,
   "metadata": {},
   "outputs": [],
   "source": [
    "merged_data = pd.merge(turnstiles_copy, stations_grouped, left_on='station', right_on='station_name', how='inner')"
   ]
  },
  {
   "cell_type": "code",
   "execution_count": null,
   "metadata": {},
   "outputs": [],
   "source": [
    "merged_data.columns"
   ]
  },
  {
   "cell_type": "code",
   "execution_count": null,
   "metadata": {},
   "outputs": [],
   "source": [
    "merged_data.head()"
   ]
  },
  {
   "cell_type": "code",
   "execution_count": null,
   "metadata": {},
   "outputs": [],
   "source": [
    "merged_data.shape"
   ]
  },
  {
   "cell_type": "markdown",
   "metadata": {},
   "source": [
    "# Only Manhattan Stations"
   ]
  },
  {
   "cell_type": "code",
   "execution_count": null,
   "metadata": {},
   "outputs": [],
   "source": [
    "new_stations = pd.read_csv('http://web.mta.info/developers/data/nyct/subway/Stations.csv')"
   ]
  },
  {
   "cell_type": "code",
   "execution_count": null,
   "metadata": {},
   "outputs": [],
   "source": [
    "new_stations.head()"
   ]
  },
  {
   "cell_type": "code",
   "execution_count": null,
   "metadata": {},
   "outputs": [],
   "source": [
    "new_stations.Borough.value_counts()"
   ]
  },
  {
   "cell_type": "code",
   "execution_count": null,
   "metadata": {},
   "outputs": [],
   "source": [
    "manhattan_stations = new_stations[new_stations['Borough'] == 'M']\n",
    "manhattan_stations.shape"
   ]
  },
  {
   "cell_type": "code",
   "execution_count": null,
   "metadata": {},
   "outputs": [],
   "source": [
    "manhattan_stations.columns"
   ]
  },
  {
   "cell_type": "code",
   "execution_count": null,
   "metadata": {},
   "outputs": [],
   "source": [
    "manhattan_stations['Stop Name'].value_counts()"
   ]
  },
  {
   "cell_type": "code",
   "execution_count": null,
   "metadata": {},
   "outputs": [],
   "source": [
    "import folium"
   ]
  },
  {
   "cell_type": "code",
   "execution_count": null,
   "metadata": {},
   "outputs": [],
   "source": [
    "def generateBaseMap(default_location=[40.693943, -73.985880], default_zoom_start=12):\n",
    "    base_map = folium.Map(location=default_location, control_scale=True, zoom_start=default_zoom_start)\n",
    "    return base_map"
   ]
  },
  {
   "cell_type": "code",
   "execution_count": null,
   "metadata": {},
   "outputs": [],
   "source": [
    "from folium.plugins import HeatMap\n",
    "manhattan_copy = manhattan_stations.copy()\n",
    "manhattan_copy['count'] = 1\n",
    "basemap = generateBaseMap()\n",
    "HeatMap(data=manhattan_copy[['GTFS Latitude', 'GTFS Longitude', 'count']].groupby(['GTFS Latitude', 'GTFS Longitude']).sum().reset_index().values.tolist(), radius=8, max_zoom=13).add_to(basemap)"
   ]
  },
  {
   "cell_type": "code",
   "execution_count": null,
   "metadata": {},
   "outputs": [],
   "source": [
    "basemap"
   ]
  },
  {
   "cell_type": "code",
   "execution_count": null,
   "metadata": {},
   "outputs": [],
   "source": [
    "for lat,lon,station in zip(manhattan_copy['GTFS Latitude'],manhattan_copy['GTFS Longitude'],manhattan_copy['Stop Name']):\n",
    "     folium.CircleMarker([lat, lon],\n",
    "                            popup=station,\n",
    "                            color='b',\n",
    "                            fill=True,\n",
    "                            fill_opacity=0.7,\n",
    "                           ).add_to(basemap)"
   ]
  },
  {
   "cell_type": "code",
   "execution_count": null,
   "metadata": {},
   "outputs": [],
   "source": [
    "basemap"
   ]
  },
  {
   "cell_type": "markdown",
   "metadata": {},
   "source": [
    "<font color=\"red\"><H1>Merge Stations and Turnstiles Data</H1></font>"
   ]
  },
  {
   "cell_type": "code",
   "execution_count": null,
   "metadata": {},
   "outputs": [],
   "source": [
    "turnstiles_copy.head()"
   ]
  },
  {
   "cell_type": "code",
   "execution_count": null,
   "metadata": {},
   "outputs": [],
   "source": [
    "manhattan_copy.rename(columns=lambda x: x.strip().lower().replace(' ', '_'), inplace=True)"
   ]
  },
  {
   "cell_type": "code",
   "execution_count": null,
   "metadata": {},
   "outputs": [],
   "source": [
    "manhattan_copy.head()"
   ]
  },
  {
   "cell_type": "code",
   "execution_count": null,
   "metadata": {},
   "outputs": [],
   "source": [
    "manhattan_copy = manhattan_copy.loc[:, ['stop_name', 'gtfs_latitude', 'gtfs_longitude']]"
   ]
  },
  {
   "cell_type": "code",
   "execution_count": null,
   "metadata": {},
   "outputs": [],
   "source": [
    "combined_data = pd.merge(turnstiles_copy, manhattan_copy, left_on='station', right_on='stop_name')"
   ]
  },
  {
   "cell_type": "code",
   "execution_count": null,
   "metadata": {},
   "outputs": [],
   "source": [
    "combined_data.head()"
   ]
  },
  {
   "cell_type": "code",
   "execution_count": null,
   "metadata": {},
   "outputs": [],
   "source": [
    "combined_data.dtypes"
   ]
  },
  {
   "cell_type": "markdown",
   "metadata": {},
   "source": [
    "<font color=\"red\"><H1>Add tech and women's health companies</H1></font>"
   ]
  },
  {
   "cell_type": "code",
   "execution_count": null,
   "metadata": {},
   "outputs": [],
   "source": [
    "tech_file = 'tech_ny.csv'\n",
    "womens_health_file = 'womenshealth_ny.csv'"
   ]
  },
  {
   "cell_type": "code",
   "execution_count": null,
   "metadata": {},
   "outputs": [],
   "source": [
    "tech_companies = pd.read_csv(data_path + tech_file)\n",
    "tech_companies.head()"
   ]
  },
  {
   "cell_type": "code",
   "execution_count": null,
   "metadata": {},
   "outputs": [],
   "source": [
    "womens_health_companies = pd.read_csv(data_path + womens_health_file)\n",
    "womens_health_companies.head()"
   ]
  },
  {
   "cell_type": "markdown",
   "metadata": {},
   "source": [
    "<font color=\"red\"><H1>Replot using combined data for traffic densities and add tech companies</H1></font>"
   ]
  },
  {
   "cell_type": "code",
   "execution_count": null,
   "metadata": {},
   "outputs": [],
   "source": [
    "import folium"
   ]
  },
  {
   "cell_type": "code",
   "execution_count": null,
   "metadata": {},
   "outputs": [],
   "source": [
    "def generateBaseMap(default_location=[40.758896, -73.985130], default_zoom_start=12):\n",
    "    base_map = folium.Map(location=default_location, control_scale=True, zoom_start=default_zoom_start)\n",
    "    return base_map"
   ]
  },
  {
   "cell_type": "code",
   "execution_count": null,
   "metadata": {},
   "outputs": [],
   "source": [
    "combined_data.head()"
   ]
  },
  {
   "cell_type": "markdown",
   "metadata": {},
   "source": [
    "## Subway Stations Map"
   ]
  },
  {
   "cell_type": "code",
   "execution_count": null,
   "metadata": {},
   "outputs": [],
   "source": [
    "stations_map = generateBaseMap()\n",
    "for lat,lon,station in zip(manhattan_copy['gtfs_latitude'],manhattan_copy['gtfs_longitude'],manhattan_copy['stop_name']):\n",
    "     folium.CircleMarker([lat, lon],\n",
    "                            popup=station,\n",
    "                            color='b',\n",
    "                            radius=2.5,\n",
    "                            fill=True,\n",
    "                            fill_opacity=0.8,\n",
    "                           ).add_to(stations_map)"
   ]
  },
  {
   "cell_type": "code",
   "execution_count": null,
   "metadata": {},
   "outputs": [],
   "source": [
    "stations_map"
   ]
  },
  {
   "cell_type": "markdown",
   "metadata": {},
   "source": [
    "## Company Locations Map"
   ]
  },
  {
   "cell_type": "markdown",
   "metadata": {},
   "source": [
    "Tech Companies"
   ]
  },
  {
   "cell_type": "code",
   "execution_count": null,
   "metadata": {},
   "outputs": [],
   "source": [
    "tech_map = generateBaseMap(default_zoom_start=12.5)\n",
    "for lat,lon,company in zip(tech_companies['latitude'],tech_companies['longitude'],tech_companies['name']):\n",
    "     folium.Marker([lat, lon],\n",
    "                        popup=company,\n",
    "                        icon=folium.Icon(color='darkblue'),\n",
    "                        radius=2.5,\n",
    "                        fill=True,\n",
    "                        fill_opacity=0.8,\n",
    "                       ).add_to(tech_map)"
   ]
  },
  {
   "cell_type": "code",
   "execution_count": null,
   "metadata": {},
   "outputs": [],
   "source": [
    "tech_map"
   ]
  },
  {
   "cell_type": "markdown",
   "metadata": {},
   "source": [
    "Women's Health Map"
   ]
  },
  {
   "cell_type": "code",
   "execution_count": null,
   "metadata": {},
   "outputs": [],
   "source": [
    "womens_health_map = generateBaseMap()\n",
    "for lat,lon,company in zip(womens_health_companies['latitude'],womens_health_companies['longitude'],womens_health_companies['name']):\n",
    "     folium.Marker([lat, lon],\n",
    "                        popup=company,\n",
    "                        icon=folium.Icon(color='red'),\n",
    "                        radius=2.5,\n",
    "                        fill=True,\n",
    "                        fill_opacity=0.8,\n",
    "                       ).add_to(womens_health_map)"
   ]
  },
  {
   "cell_type": "code",
   "execution_count": null,
   "metadata": {},
   "outputs": [],
   "source": [
    "womens_health_map"
   ]
  },
  {
   "cell_type": "markdown",
   "metadata": {},
   "source": [
    "## Combined tech and womens health maps"
   ]
  },
  {
   "cell_type": "code",
   "execution_count": null,
   "metadata": {},
   "outputs": [],
   "source": [
    "for lat,lon,company in zip(womens_health_companies['latitude'],womens_health_companies['longitude'],womens_health_companies['name']):\n",
    "     folium.Marker([lat, lon],\n",
    "                        popup=company,\n",
    "                        icon=folium.Icon(color='red'),\n",
    "                        radius=2.5,\n",
    "                        fill=True,\n",
    "                        fill_opacity=0.8,\n",
    "                       ).add_to(tech_map)"
   ]
  },
  {
   "cell_type": "code",
   "execution_count": null,
   "metadata": {},
   "outputs": [],
   "source": [
    "tech_map"
   ]
  },
  {
   "cell_type": "markdown",
   "metadata": {},
   "source": [
    "## Entries Map"
   ]
  },
  {
   "cell_type": "code",
   "execution_count": null,
   "metadata": {},
   "outputs": [],
   "source": [
    "from folium.plugins import HeatMap\n",
    "combined_copy = combined_data.copy()\n",
    "entries_map = generateBaseMap()\n",
    "HeatMap(data=combined_copy[['gtfs_latitude', 'gtfs_longitude', 'deltaEntry']].groupby(['gtfs_latitude', 'gtfs_longitude']).sum().reset_index().values.tolist(), radius=8, max_zoom=13).add_to(entries_map);"
   ]
  },
  {
   "cell_type": "code",
   "execution_count": null,
   "metadata": {},
   "outputs": [],
   "source": [
    "entries_map"
   ]
  },
  {
   "cell_type": "code",
   "execution_count": null,
   "metadata": {},
   "outputs": [],
   "source": [
    "for lat,lon,station in zip(manhattan_copy['gtfs_latitude'],manhattan_copy['gtfs_longitude'],manhattan_copy['stop_name']):\n",
    "     folium.CircleMarker([lat, lon],\n",
    "                            popup=station,\n",
    "                            color='b',\n",
    "                            radius=2.5,\n",
    "                            fill=True,\n",
    "                            fill_opacity=0.8,\n",
    "                           ).add_to(entries_map)"
   ]
  },
  {
   "cell_type": "code",
   "execution_count": null,
   "metadata": {},
   "outputs": [],
   "source": [
    "entries_map"
   ]
  },
  {
   "cell_type": "markdown",
   "metadata": {},
   "source": [
    "## Exits Map"
   ]
  },
  {
   "cell_type": "code",
   "execution_count": null,
   "metadata": {},
   "outputs": [],
   "source": [
    "from folium.plugins import HeatMap\n",
    "combined_copy = combined_data.copy()\n",
    "exits_map = generateBaseMap()\n",
    "HeatMap(data=combined_copy[['gtfs_latitude', 'gtfs_longitude', 'deltaExit']].groupby(['gtfs_latitude', 'gtfs_longitude']).sum().reset_index().values.tolist(), radius=8, max_zoom=13).add_to(exits_map);"
   ]
  },
  {
   "cell_type": "code",
   "execution_count": null,
   "metadata": {},
   "outputs": [],
   "source": [
    "exits_map"
   ]
  },
  {
   "cell_type": "code",
   "execution_count": null,
   "metadata": {},
   "outputs": [],
   "source": [
    "for lat,lon,station in zip(manhattan_copy['gtfs_latitude'],manhattan_copy['gtfs_longitude'],manhattan_copy['stop_name']):\n",
    "     folium.CircleMarker([lat, lon],\n",
    "                            popup=station,\n",
    "                            color='b',\n",
    "                            radius=2.5,\n",
    "                            fill=True,\n",
    "                            fill_opacity=0.8,\n",
    "                           ).add_to(exits_map)"
   ]
  },
  {
   "cell_type": "code",
   "execution_count": null,
   "metadata": {},
   "outputs": [],
   "source": [
    "exits_map"
   ]
  },
  {
   "cell_type": "markdown",
   "metadata": {},
   "source": [
    "## Combined Traffic Map + Layers"
   ]
  },
  {
   "cell_type": "code",
   "execution_count": null,
   "metadata": {},
   "outputs": [],
   "source": [
    "from folium.plugins import HeatMap\n",
    "combined_copy = combined_data.copy()\n",
    "traffic_map = generateBaseMap()\n",
    "combined_copy['total_traffic'] = combined_copy['deltaExit'] + combined_copy['deltaEntry']\n",
    "HeatMap(data=combined_copy[['gtfs_latitude', 'gtfs_longitude', 'total_traffic']].groupby(['gtfs_latitude', 'gtfs_longitude']).sum().reset_index().values.tolist(), radius=10, max_zoom=13).add_to(traffic_map);"
   ]
  },
  {
   "cell_type": "code",
   "execution_count": null,
   "metadata": {},
   "outputs": [],
   "source": [
    "traffic_map"
   ]
  },
  {
   "cell_type": "markdown",
   "metadata": {},
   "source": [
    "### Add stations"
   ]
  },
  {
   "cell_type": "code",
   "execution_count": null,
   "metadata": {},
   "outputs": [],
   "source": [
    "for lat,lon,station in zip(manhattan_copy['gtfs_latitude'],manhattan_copy['gtfs_longitude'],manhattan_copy['stop_name']):\n",
    "     folium.CircleMarker([lat, lon],\n",
    "                            popup=station,\n",
    "                            color='b',\n",
    "                            radius=2.5,\n",
    "                            fill=True,\n",
    "                            fill_opacity=0.8,\n",
    "                           ).add_to(traffic_map)"
   ]
  },
  {
   "cell_type": "code",
   "execution_count": null,
   "metadata": {},
   "outputs": [],
   "source": [
    "traffic_map"
   ]
  },
  {
   "cell_type": "markdown",
   "metadata": {},
   "source": [
    "## Add companies"
   ]
  },
  {
   "cell_type": "code",
   "execution_count": null,
   "metadata": {},
   "outputs": [],
   "source": [
    "tech_map = generateBaseMap(default_zoom_start=12.5)\n",
    "for lat,lon,company in zip(tech_companies['latitude'],tech_companies['longitude'],tech_companies['name']):\n",
    "     folium.Marker([lat, lon],\n",
    "                        popup=company,\n",
    "                        icon=folium.Icon(color='darkblue'),\n",
    "                        radius=2.5,\n",
    "                        fill=True,\n",
    "                        fill_opacity=0.8,\n",
    "                       ).add_to(tech_map)"
   ]
  },
  {
   "cell_type": "code",
   "execution_count": null,
   "metadata": {},
   "outputs": [],
   "source": [
    "for lat,lon,company in zip(womens_health_companies['latitude'],womens_health_companies['longitude'],womens_health_companies['name']):\n",
    "     folium.Marker([lat, lon],\n",
    "                        popup=company,\n",
    "                        icon=folium.Icon(color='red'),\n",
    "                        radius=2.5,\n",
    "                        fill=True,\n",
    "                        fill_opacity=0.8,\n",
    "                       ).add_to(tech_map)"
   ]
  },
  {
   "cell_type": "code",
   "execution_count": null,
   "metadata": {},
   "outputs": [],
   "source": [
    "tech_map"
   ]
  },
  {
   "cell_type": "code",
   "execution_count": null,
   "metadata": {},
   "outputs": [],
   "source": []
  }
 ],
 "metadata": {
  "kernelspec": {
   "display_name": "Python 3",
   "language": "python",
   "name": "python3"
  },
  "language_info": {
   "codemirror_mode": {
    "name": "ipython",
    "version": 3
   },
   "file_extension": ".py",
   "mimetype": "text/x-python",
   "name": "python",
   "nbconvert_exporter": "python",
   "pygments_lexer": "ipython3",
   "version": "3.7.4"
  }
 },
 "nbformat": 4,
 "nbformat_minor": 4
}
