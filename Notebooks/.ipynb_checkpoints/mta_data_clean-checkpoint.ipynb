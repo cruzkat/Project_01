{
 "cells": [
  {
   "cell_type": "code",
   "execution_count": 40,
   "metadata": {},
   "outputs": [],
   "source": [
    "import sys\n",
    "import numpy as np\n",
    "import pandas as pd\n",
    "import matplotlib.pyplot as mat\n",
    "import datetime as dt\n",
    "sys.path.append('../src')\n",
    "import mta_data_clean as mc"
   ]
  },
  {
   "cell_type": "code",
   "execution_count": 44,
   "metadata": {},
   "outputs": [],
   "source": [
    "# Read the datafiles\n",
    "data_path = '../data/'\n",
    "pickle_file = 'mta_data.pickle'\n",
    "'''\n",
    "data_file_list = ['turnstile_191102.txt',\n",
    "                 'turnstile_191109.txt',\n",
    "                 'turnstile_191116.txt',\n",
    "                 'turnstile_191130.txt',\n",
    "                 'turnstile_191207.txt',\n",
    "                 'turnstile_191214.txt',\n",
    "                 'turnstile_191221.txt',\n",
    "                 'turnstile_191228.txt'\n",
    "                 'turnstile_200104.txt']\n",
    "'''\n",
    "data_file_list = ['turnstile_191102.txt',\n",
    "                 'turnstile_191005.txt']\n",
    "booth_key_filename = 'Remote-Booth-Station.csv'"
   ]
  },
  {
   "cell_type": "code",
   "execution_count": 45,
   "metadata": {},
   "outputs": [],
   "source": [
    "df = mc.mta_data_clean(data_path, data_file_list)\n",
    "mc.mta_data_pickle_dump(df, pickle_file)"
   ]
  },
  {
   "cell_type": "code",
   "execution_count": 46,
   "metadata": {},
   "outputs": [
    {
     "data": {
      "text/html": [
       "<div>\n",
       "<style scoped>\n",
       "    .dataframe tbody tr th:only-of-type {\n",
       "        vertical-align: middle;\n",
       "    }\n",
       "\n",
       "    .dataframe tbody tr th {\n",
       "        vertical-align: top;\n",
       "    }\n",
       "\n",
       "    .dataframe thead th {\n",
       "        text-align: right;\n",
       "    }\n",
       "</style>\n",
       "<table border=\"1\" class=\"dataframe\">\n",
       "  <thead>\n",
       "    <tr style=\"text-align: right;\">\n",
       "      <th></th>\n",
       "      <th>entries</th>\n",
       "      <th>exits</th>\n",
       "      <th>deltaEntry</th>\n",
       "      <th>deltaExit</th>\n",
       "    </tr>\n",
       "  </thead>\n",
       "  <tbody>\n",
       "    <tr>\n",
       "      <td>count</td>\n",
       "      <td>2.060460e+05</td>\n",
       "      <td>2.060460e+05</td>\n",
       "      <td>206046.000000</td>\n",
       "      <td>206046.000000</td>\n",
       "    </tr>\n",
       "    <tr>\n",
       "      <td>mean</td>\n",
       "      <td>4.101341e+07</td>\n",
       "      <td>3.395214e+07</td>\n",
       "      <td>161.158644</td>\n",
       "      <td>127.948560</td>\n",
       "    </tr>\n",
       "    <tr>\n",
       "      <td>std</td>\n",
       "      <td>2.113375e+08</td>\n",
       "      <td>1.958360e+08</td>\n",
       "      <td>261.822016</td>\n",
       "      <td>244.203327</td>\n",
       "    </tr>\n",
       "    <tr>\n",
       "      <td>min</td>\n",
       "      <td>0.000000e+00</td>\n",
       "      <td>0.000000e+00</td>\n",
       "      <td>0.000000</td>\n",
       "      <td>0.000000</td>\n",
       "    </tr>\n",
       "    <tr>\n",
       "      <td>25%</td>\n",
       "      <td>2.987312e+05</td>\n",
       "      <td>1.387082e+05</td>\n",
       "      <td>0.000000</td>\n",
       "      <td>0.000000</td>\n",
       "    </tr>\n",
       "    <tr>\n",
       "      <td>50%</td>\n",
       "      <td>1.969911e+06</td>\n",
       "      <td>1.157290e+06</td>\n",
       "      <td>40.000000</td>\n",
       "      <td>31.000000</td>\n",
       "    </tr>\n",
       "    <tr>\n",
       "      <td>75%</td>\n",
       "      <td>6.621930e+06</td>\n",
       "      <td>4.505968e+06</td>\n",
       "      <td>220.000000</td>\n",
       "      <td>148.000000</td>\n",
       "    </tr>\n",
       "    <tr>\n",
       "      <td>max</td>\n",
       "      <td>2.129010e+09</td>\n",
       "      <td>2.123659e+09</td>\n",
       "      <td>12526.000000</td>\n",
       "      <td>10727.000000</td>\n",
       "    </tr>\n",
       "  </tbody>\n",
       "</table>\n",
       "</div>"
      ],
      "text/plain": [
       "            entries         exits     deltaEntry      deltaExit\n",
       "count  2.060460e+05  2.060460e+05  206046.000000  206046.000000\n",
       "mean   4.101341e+07  3.395214e+07     161.158644     127.948560\n",
       "std    2.113375e+08  1.958360e+08     261.822016     244.203327\n",
       "min    0.000000e+00  0.000000e+00       0.000000       0.000000\n",
       "25%    2.987312e+05  1.387082e+05       0.000000       0.000000\n",
       "50%    1.969911e+06  1.157290e+06      40.000000      31.000000\n",
       "75%    6.621930e+06  4.505968e+06     220.000000     148.000000\n",
       "max    2.129010e+09  2.123659e+09   12526.000000   10727.000000"
      ]
     },
     "execution_count": 46,
     "metadata": {},
     "output_type": "execute_result"
    }
   ],
   "source": [
    "df.describe()"
   ]
  },
  {
   "cell_type": "code",
   "execution_count": 47,
   "metadata": {},
   "outputs": [
    {
     "ename": "NameError",
     "evalue": "name 'df' is not defined",
     "output_type": "error",
     "traceback": [
      "\u001b[0;31m---------------------------------------------------------------------------\u001b[0m",
      "\u001b[0;31mNameError\u001b[0m                                 Traceback (most recent call last)",
      "\u001b[0;32m<ipython-input-47-f5b8677c739e>\u001b[0m in \u001b[0;36m<module>\u001b[0;34m\u001b[0m\n\u001b[1;32m      1\u001b[0m \u001b[0;32mdel\u001b[0m \u001b[0mdf\u001b[0m\u001b[0;34m\u001b[0m\u001b[0;34m\u001b[0m\u001b[0m\n\u001b[0;32m----> 2\u001b[0;31m \u001b[0mdf\u001b[0m\u001b[0;34m\u001b[0m\u001b[0;34m\u001b[0m\u001b[0m\n\u001b[0m",
      "\u001b[0;31mNameError\u001b[0m: name 'df' is not defined"
     ]
    }
   ],
   "source": [
    "del df\n",
    "df"
   ]
  },
  {
   "cell_type": "code",
   "execution_count": 48,
   "metadata": {},
   "outputs": [],
   "source": [
    "df = mc.mta_data_pickle_read(pickle_file)"
   ]
  },
  {
   "cell_type": "code",
   "execution_count": 49,
   "metadata": {},
   "outputs": [
    {
     "data": {
      "text/html": [
       "<div>\n",
       "<style scoped>\n",
       "    .dataframe tbody tr th:only-of-type {\n",
       "        vertical-align: middle;\n",
       "    }\n",
       "\n",
       "    .dataframe tbody tr th {\n",
       "        vertical-align: top;\n",
       "    }\n",
       "\n",
       "    .dataframe thead th {\n",
       "        text-align: right;\n",
       "    }\n",
       "</style>\n",
       "<table border=\"1\" class=\"dataframe\">\n",
       "  <thead>\n",
       "    <tr style=\"text-align: right;\">\n",
       "      <th></th>\n",
       "      <th>entries</th>\n",
       "      <th>exits</th>\n",
       "      <th>deltaEntry</th>\n",
       "      <th>deltaExit</th>\n",
       "    </tr>\n",
       "  </thead>\n",
       "  <tbody>\n",
       "    <tr>\n",
       "      <td>count</td>\n",
       "      <td>2.060460e+05</td>\n",
       "      <td>2.060460e+05</td>\n",
       "      <td>206046.000000</td>\n",
       "      <td>206046.000000</td>\n",
       "    </tr>\n",
       "    <tr>\n",
       "      <td>mean</td>\n",
       "      <td>4.101341e+07</td>\n",
       "      <td>3.395214e+07</td>\n",
       "      <td>161.158644</td>\n",
       "      <td>127.948560</td>\n",
       "    </tr>\n",
       "    <tr>\n",
       "      <td>std</td>\n",
       "      <td>2.113375e+08</td>\n",
       "      <td>1.958360e+08</td>\n",
       "      <td>261.822016</td>\n",
       "      <td>244.203327</td>\n",
       "    </tr>\n",
       "    <tr>\n",
       "      <td>min</td>\n",
       "      <td>0.000000e+00</td>\n",
       "      <td>0.000000e+00</td>\n",
       "      <td>0.000000</td>\n",
       "      <td>0.000000</td>\n",
       "    </tr>\n",
       "    <tr>\n",
       "      <td>25%</td>\n",
       "      <td>2.987312e+05</td>\n",
       "      <td>1.387082e+05</td>\n",
       "      <td>0.000000</td>\n",
       "      <td>0.000000</td>\n",
       "    </tr>\n",
       "    <tr>\n",
       "      <td>50%</td>\n",
       "      <td>1.969911e+06</td>\n",
       "      <td>1.157290e+06</td>\n",
       "      <td>40.000000</td>\n",
       "      <td>31.000000</td>\n",
       "    </tr>\n",
       "    <tr>\n",
       "      <td>75%</td>\n",
       "      <td>6.621930e+06</td>\n",
       "      <td>4.505968e+06</td>\n",
       "      <td>220.000000</td>\n",
       "      <td>148.000000</td>\n",
       "    </tr>\n",
       "    <tr>\n",
       "      <td>max</td>\n",
       "      <td>2.129010e+09</td>\n",
       "      <td>2.123659e+09</td>\n",
       "      <td>12526.000000</td>\n",
       "      <td>10727.000000</td>\n",
       "    </tr>\n",
       "  </tbody>\n",
       "</table>\n",
       "</div>"
      ],
      "text/plain": [
       "            entries         exits     deltaEntry      deltaExit\n",
       "count  2.060460e+05  2.060460e+05  206046.000000  206046.000000\n",
       "mean   4.101341e+07  3.395214e+07     161.158644     127.948560\n",
       "std    2.113375e+08  1.958360e+08     261.822016     244.203327\n",
       "min    0.000000e+00  0.000000e+00       0.000000       0.000000\n",
       "25%    2.987312e+05  1.387082e+05       0.000000       0.000000\n",
       "50%    1.969911e+06  1.157290e+06      40.000000      31.000000\n",
       "75%    6.621930e+06  4.505968e+06     220.000000     148.000000\n",
       "max    2.129010e+09  2.123659e+09   12526.000000   10727.000000"
      ]
     },
     "execution_count": 49,
     "metadata": {},
     "output_type": "execute_result"
    }
   ],
   "source": [
    "df.describe()"
   ]
  },
  {
   "cell_type": "code",
   "execution_count": null,
   "metadata": {},
   "outputs": [],
   "source": []
  }
 ],
 "metadata": {
  "kernelspec": {
   "display_name": "Python 3",
   "language": "python",
   "name": "python3"
  },
  "language_info": {
   "codemirror_mode": {
    "name": "ipython",
    "version": 3
   },
   "file_extension": ".py",
   "mimetype": "text/x-python",
   "name": "python",
   "nbconvert_exporter": "python",
   "pygments_lexer": "ipython3",
   "version": "3.7.4"
  }
 },
 "nbformat": 4,
 "nbformat_minor": 4
}
