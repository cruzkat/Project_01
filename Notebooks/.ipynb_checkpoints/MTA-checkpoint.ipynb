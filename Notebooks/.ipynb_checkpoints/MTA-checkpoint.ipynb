{
 "cells": [
  {
   "cell_type": "markdown",
   "metadata": {
    "Collapsed": "false"
   },
   "source": [
    "<H1>MTA Passenger Data Analisys</H1>"
   ]
  },
  {
   "cell_type": "markdown",
   "metadata": {
    "Collapsed": "false"
   },
   "source": [
    "Evaluate turnstile data to look for optimal locations for positioning staff for fundraising"
   ]
  },
  {
   "cell_type": "code",
   "execution_count": 1,
   "metadata": {
    "Collapsed": "false"
   },
   "outputs": [],
   "source": [
    "import sys\n",
    "import numpy as np\n",
    "import pandas as pd\n",
    "import matplotlib.pyplot as mat\n",
    "import datetime as dt"
   ]
  },
  {
   "cell_type": "code",
   "execution_count": 2,
   "metadata": {
    "Collapsed": "false"
   },
   "outputs": [],
   "source": [
    "# Read the datafiles\n",
    "data_path = '../data/'\n",
    "data_file_list = ['turnstile_191102.txt',\n",
    "                 'turnstile_191109.txt',\n",
    "                 'turnstile_191116.txt',\n",
    "                 'turnstile_191130.txt',\n",
    "                 'turnstile_191207.txt',\n",
    "                 'turnstile_191214.txt',\n",
    "                 'turnstile_191221.txt',\n",
    "                 'turnstile_191228.txt'\n",
    "                 'turnstile_200104.txt']\n",
    "\n",
    "booth_key_filename = 'Remote-Booth-Station.csv'\n"
   ]
  },
  {
   "cell_type": "code",
   "execution_count": 3,
   "metadata": {
    "Collapsed": "false"
   },
   "outputs": [
    {
     "data": {
      "text/plain": [
       "(          C/A  UNIT       SCP        STATION LINENAME DIVISION        DATE  \\\n",
       " 0        A002  R051  02-00-00          59 ST  NQR456W      BMT  10/26/2019   \n",
       " 1        A002  R051  02-00-00          59 ST  NQR456W      BMT  10/26/2019   \n",
       " 2        A002  R051  02-00-00          59 ST  NQR456W      BMT  10/26/2019   \n",
       " 3        A002  R051  02-00-00          59 ST  NQR456W      BMT  10/26/2019   \n",
       " 4        A002  R051  02-00-00          59 ST  NQR456W      BMT  10/26/2019   \n",
       " ...       ...   ...       ...            ...      ...      ...         ...   \n",
       " 206041  TRAM2  R469  00-05-01  RIT-ROOSEVELT        R      RIT  11/01/2019   \n",
       " 206042  TRAM2  R469  00-05-01  RIT-ROOSEVELT        R      RIT  11/01/2019   \n",
       " 206043  TRAM2  R469  00-05-01  RIT-ROOSEVELT        R      RIT  11/01/2019   \n",
       " 206044  TRAM2  R469  00-05-01  RIT-ROOSEVELT        R      RIT  11/01/2019   \n",
       " 206045  TRAM2  R469  00-05-01  RIT-ROOSEVELT        R      RIT  11/01/2019   \n",
       " \n",
       "             TIME     DESC  ENTRIES  \\\n",
       " 0       00:00:00  REGULAR  7247322   \n",
       " 1       04:00:00  REGULAR  7247336   \n",
       " 2       08:00:00  REGULAR  7247351   \n",
       " 3       12:00:00  REGULAR  7247463   \n",
       " 4       16:00:00  REGULAR  7247755   \n",
       " ...          ...      ...      ...   \n",
       " 206041  05:00:00  REGULAR     5554   \n",
       " 206042  09:00:00  REGULAR     5554   \n",
       " 206043  13:00:00  REGULAR     5554   \n",
       " 206044  17:00:00  REGULAR     5554   \n",
       " 206045  21:00:00  REGULAR     5554   \n",
       " \n",
       "         EXITS                                                                 \n",
       " 0                                                 2455491                     \n",
       " 1                                                 2455499                     \n",
       " 2                                                 2455532                     \n",
       " 3                                                 2455623                     \n",
       " 4                                                 2455679                     \n",
       " ...                                                   ...                     \n",
       " 206041                                                420                     \n",
       " 206042                                                420                     \n",
       " 206043                                                420                     \n",
       " 206044                                                420                     \n",
       " 206045                                                420                     \n",
       " \n",
       " [206046 rows x 11 columns],\n",
       "     Remote  Booth         Station Line Name Division\n",
       " 0     R001   A060    WHITEHALL ST        R1      BMT\n",
       " 1     R001   A058    WHITEHALL ST        R1      BMT\n",
       " 2     R001  R101S     SOUTH FERRY        R1      IRT\n",
       " 3     R002   A077       FULTON ST  ACJZ2345      BMT\n",
       " 4     R002   A081       FULTON ST  ACJZ2345      BMT\n",
       " ..     ...    ...             ...       ...      ...\n",
       " 763   R549  PTH20    NEWARK HM HE         1      PTH\n",
       " 764   R550  PTH07      CITY / BUS         1      PTH\n",
       " 765   R550  PTH16      LACKAWANNA         1      PTH\n",
       " 766   R551  PTH04    GROVE STREET         1      PTH\n",
       " 767   R552  PTH03  JOURNAL SQUARE         1      PTH\n",
       " \n",
       " [768 rows x 5 columns])"
      ]
     },
     "execution_count": 3,
     "metadata": {},
     "output_type": "execute_result"
    }
   ],
   "source": [
    "turnstiles1 = pd.read_csv(data_path + data_file_list[0])\n",
    "booth_key = pd.read_csv(data_path + booth_key_filename)\n",
    "turnstiles1, booth_key"
   ]
  },
  {
   "cell_type": "code",
   "execution_count": 4,
   "metadata": {
    "Collapsed": "false"
   },
   "outputs": [
    {
     "data": {
      "text/html": [
       "<div>\n",
       "<style scoped>\n",
       "    .dataframe tbody tr th:only-of-type {\n",
       "        vertical-align: middle;\n",
       "    }\n",
       "\n",
       "    .dataframe tbody tr th {\n",
       "        vertical-align: top;\n",
       "    }\n",
       "\n",
       "    .dataframe thead th {\n",
       "        text-align: right;\n",
       "    }\n",
       "</style>\n",
       "<table border=\"1\" class=\"dataframe\">\n",
       "  <thead>\n",
       "    <tr style=\"text-align: right;\">\n",
       "      <th></th>\n",
       "      <th>C/A</th>\n",
       "      <th>UNIT</th>\n",
       "      <th>SCP</th>\n",
       "      <th>STATION</th>\n",
       "      <th>LINENAME</th>\n",
       "      <th>DIVISION</th>\n",
       "      <th>DATE</th>\n",
       "      <th>TIME</th>\n",
       "      <th>DESC</th>\n",
       "      <th>ENTRIES</th>\n",
       "      <th>EXITS</th>\n",
       "    </tr>\n",
       "  </thead>\n",
       "  <tbody>\n",
       "    <tr>\n",
       "      <th>0</th>\n",
       "      <td>A002</td>\n",
       "      <td>R051</td>\n",
       "      <td>02-00-00</td>\n",
       "      <td>59 ST</td>\n",
       "      <td>NQR456W</td>\n",
       "      <td>BMT</td>\n",
       "      <td>10/26/2019</td>\n",
       "      <td>00:00:00</td>\n",
       "      <td>REGULAR</td>\n",
       "      <td>7247322</td>\n",
       "      <td>2455491</td>\n",
       "    </tr>\n",
       "    <tr>\n",
       "      <th>1</th>\n",
       "      <td>A002</td>\n",
       "      <td>R051</td>\n",
       "      <td>02-00-00</td>\n",
       "      <td>59 ST</td>\n",
       "      <td>NQR456W</td>\n",
       "      <td>BMT</td>\n",
       "      <td>10/26/2019</td>\n",
       "      <td>04:00:00</td>\n",
       "      <td>REGULAR</td>\n",
       "      <td>7247336</td>\n",
       "      <td>2455499</td>\n",
       "    </tr>\n",
       "    <tr>\n",
       "      <th>2</th>\n",
       "      <td>A002</td>\n",
       "      <td>R051</td>\n",
       "      <td>02-00-00</td>\n",
       "      <td>59 ST</td>\n",
       "      <td>NQR456W</td>\n",
       "      <td>BMT</td>\n",
       "      <td>10/26/2019</td>\n",
       "      <td>08:00:00</td>\n",
       "      <td>REGULAR</td>\n",
       "      <td>7247351</td>\n",
       "      <td>2455532</td>\n",
       "    </tr>\n",
       "    <tr>\n",
       "      <th>3</th>\n",
       "      <td>A002</td>\n",
       "      <td>R051</td>\n",
       "      <td>02-00-00</td>\n",
       "      <td>59 ST</td>\n",
       "      <td>NQR456W</td>\n",
       "      <td>BMT</td>\n",
       "      <td>10/26/2019</td>\n",
       "      <td>12:00:00</td>\n",
       "      <td>REGULAR</td>\n",
       "      <td>7247463</td>\n",
       "      <td>2455623</td>\n",
       "    </tr>\n",
       "    <tr>\n",
       "      <th>4</th>\n",
       "      <td>A002</td>\n",
       "      <td>R051</td>\n",
       "      <td>02-00-00</td>\n",
       "      <td>59 ST</td>\n",
       "      <td>NQR456W</td>\n",
       "      <td>BMT</td>\n",
       "      <td>10/26/2019</td>\n",
       "      <td>16:00:00</td>\n",
       "      <td>REGULAR</td>\n",
       "      <td>7247755</td>\n",
       "      <td>2455679</td>\n",
       "    </tr>\n",
       "  </tbody>\n",
       "</table>\n",
       "</div>"
      ],
      "text/plain": [
       "    C/A  UNIT       SCP STATION LINENAME DIVISION        DATE      TIME  \\\n",
       "0  A002  R051  02-00-00   59 ST  NQR456W      BMT  10/26/2019  00:00:00   \n",
       "1  A002  R051  02-00-00   59 ST  NQR456W      BMT  10/26/2019  04:00:00   \n",
       "2  A002  R051  02-00-00   59 ST  NQR456W      BMT  10/26/2019  08:00:00   \n",
       "3  A002  R051  02-00-00   59 ST  NQR456W      BMT  10/26/2019  12:00:00   \n",
       "4  A002  R051  02-00-00   59 ST  NQR456W      BMT  10/26/2019  16:00:00   \n",
       "\n",
       "      DESC  ENTRIES  \\\n",
       "0  REGULAR  7247322   \n",
       "1  REGULAR  7247336   \n",
       "2  REGULAR  7247351   \n",
       "3  REGULAR  7247463   \n",
       "4  REGULAR  7247755   \n",
       "\n",
       "   EXITS                                                                 \n",
       "0                                            2455491                     \n",
       "1                                            2455499                     \n",
       "2                                            2455532                     \n",
       "3                                            2455623                     \n",
       "4                                            2455679                     "
      ]
     },
     "execution_count": 4,
     "metadata": {},
     "output_type": "execute_result"
    }
   ],
   "source": [
    "turnstiles1.head()"
   ]
  },
  {
   "cell_type": "code",
   "execution_count": 5,
   "metadata": {
    "Collapsed": "false"
   },
   "outputs": [
    {
     "data": {
      "text/plain": [
       "Index(['C/A', 'UNIT', 'SCP', 'STATION', 'LINENAME', 'DIVISION', 'DATE', 'TIME',\n",
       "       'DESC', 'ENTRIES', 'EXITS'],\n",
       "      dtype='object')"
      ]
     },
     "execution_count": 5,
     "metadata": {},
     "output_type": "execute_result"
    }
   ],
   "source": [
    "turnstiles1.columns = [x.strip() for x in turnstiles1.columns]\n",
    "turnstiles1.columns"
   ]
  },
  {
   "cell_type": "code",
   "execution_count": null,
   "metadata": {
    "Collapsed": "false"
   },
   "outputs": [],
   "source": []
  },
  {
   "cell_type": "code",
   "execution_count": 16,
   "metadata": {
    "Collapsed": "false"
   },
   "outputs": [],
   "source": [
    "delta_entry = [0]\n",
    "delta_exit = [0]\n",
    "date_list = [dt.datetime.strptime(turnstiles1['DATE'][0], '%m/%d/%Y')]\n",
    "day_list = [date_list[0].weekday()]\n",
    "for row in range(1, len(turnstiles1)) :\n",
    "    delta_entry.append(turnstiles1['ENTRIES'][row] - turnstiles1['ENTRIES'][row - 1])\n",
    "    delta_exit.append(turnstiles1['EXITS'][row] - turnstiles1['EXITS'][row - 1])\n",
    "    date_list.append(dt.datetime.strptime(turnstiles1['DATE'][row], '%m/%d/%Y'))\n",
    "    day_list.append(date_list[row].weekday())\n",
    "                 \n",
    "\n",
    "turnstiles1['deltaEntry'] = delta_entry\n",
    "turnstiles1['deltaExit'] = delta_exit\n",
    "turnstiles1['datetime'] = date_list\n",
    "turnstiles1['weekday'] = day_list;"
   ]
  },
  {
   "cell_type": "code",
   "execution_count": 17,
   "metadata": {
    "Collapsed": "false"
   },
   "outputs": [],
   "source": [
    "entries = pd.Series(turnstiles1.groupby([\"STATION\", \"weekday\", \"TIME\"]).deltaEntry.sum());"
   ]
  },
  {
   "cell_type": "code",
   "execution_count": 18,
   "metadata": {
    "Collapsed": "false"
   },
   "outputs": [
    {
     "data": {
      "text/plain": [
       "STATION    weekday  TIME    \n",
       "1 AV       0        00:00:00     837\n",
       "                    04:00:00     179\n",
       "                    08:00:00    1363\n",
       "                    12:00:00    4406\n",
       "                    16:00:00    4284\n",
       "                                ... \n",
       "ZEREGA AV  6        05:00:00      41\n",
       "                    09:00:00     179\n",
       "                    13:00:00     226\n",
       "                    17:00:00     267\n",
       "                    21:00:00     108\n",
       "Name: deltaEntry, Length: 30427, dtype: int64"
      ]
     },
     "execution_count": 18,
     "metadata": {},
     "output_type": "execute_result"
    }
   ],
   "source": [
    "entries"
   ]
  },
  {
   "cell_type": "code",
   "execution_count": null,
   "metadata": {
    "Collapsed": "false"
   },
   "outputs": [],
   "source": []
  }
 ],
 "metadata": {
  "kernelspec": {
   "display_name": "Python 3",
   "language": "python",
   "name": "python3"
  },
  "language_info": {
   "codemirror_mode": {
    "name": "ipython",
    "version": 3
   },
   "file_extension": ".py",
   "mimetype": "text/x-python",
   "name": "python",
   "nbconvert_exporter": "python",
   "pygments_lexer": "ipython3",
   "version": "3.7.4"
  }
 },
 "nbformat": 4,
 "nbformat_minor": 4
}
